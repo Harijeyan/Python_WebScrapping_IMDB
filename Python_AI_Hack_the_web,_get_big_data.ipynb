{
  "nbformat": 4,
  "nbformat_minor": 0,
  "metadata": {
    "colab": {
      "name": "Python AI: Hack the web, get big data",
      "provenance": [],
      "collapsed_sections": [
        "BYsombiDbLuC",
        "LA0DsCMUbLuj",
        "nLMGy3LlbLzl",
        "kUWE8OG0bL0a",
        "jPF_IeBLbL14",
        "NLMGiZ0-bL2V",
        "UNm9DrrqbL3v"
      ]
    },
    "kernelspec": {
      "display_name": "Python 3",
      "language": "python",
      "name": "python3"
    }
  },
  "cells": [
    {
      "cell_type": "markdown",
      "metadata": {
        "id": "HT9rouZM03EB",
        "colab_type": "text"
      },
      "source": [
        "# Python AI: Hack the web, get big data"
      ]
    },
    {
      "cell_type": "markdown",
      "metadata": {
        "id": "QfFPJRMsbLr3",
        "colab_type": "text"
      },
      "source": [
        "## Finding data:\n",
        "\n",
        "* Gather data\n",
        "* Datasets in CSVs\n",
        "* APIs (government APIs like https://data.gov.sg )\n",
        "* SQl/NoSQL databases\n",
        "* Web Pages (web scrapping)"
      ]
    },
    {
      "cell_type": "markdown",
      "metadata": {
        "id": "GYxdLGYNbLr_",
        "colab_type": "text"
      },
      "source": [
        "## Web data Scrapping:\n",
        "* Requests to obtain website\n",
        "* Beautiful soup for HTML parsing \n",
        "* Pandas for data analysis \n",
        "* Matplotib for data plots"
      ]
    },
    {
      "cell_type": "markdown",
      "metadata": {
        "id": "E-5evcDabLsD",
        "colab_type": "text"
      },
      "source": [
        "## The problem:\n",
        "\n",
        "We want to analyze the distributions of IMDB and Metacritic movie ratings to see if we find anything interesting. To do this, we'll first scrape data for over 2000 movies."
      ]
    },
    {
      "cell_type": "markdown",
      "metadata": {
        "id": "NtLVWSa0bLsO",
        "colab_type": "text"
      },
      "source": [
        "### Identify the goal of our scraping right from the beginning"
      ]
    },
    {
      "cell_type": "markdown",
      "metadata": {
        "id": "GPAfVUXTbLsS",
        "colab_type": "text"
      },
      "source": [
        "* ### takes a lot of time"
      ]
    },
    {
      "cell_type": "markdown",
      "metadata": {
        "id": "09ryjgKCbLsW",
        "colab_type": "text"
      },
      "source": [
        "## Find what webs to scrape"
      ]
    },
    {
      "cell_type": "markdown",
      "metadata": {
        "id": "LXwSfSFHbLse",
        "colab_type": "text"
      },
      "source": [
        "* ### Small number of requests\n",
        "* ### Request: what happens whenever we access a web page\n",
        "* ### More requests the longer we take"
      ]
    },
    {
      "cell_type": "markdown",
      "metadata": {
        "id": "ZtoyRq88bLsh",
        "colab_type": "text"
      },
      "source": [
        "## 1st Approach:\n",
        "\n",
        "### Compile a list of movie names\n",
        "### Use it to access the web of each movie on:\n",
        "#### IMDB\n",
        "#### Metacritic\n",
        "\n",
        "\n",
        "One way to get all the data we need is to compile a list of movie names, and use it to access the web page of each movie on both IMDB and Metacritic websites.\n",
        "\n",
        "2000 ratings from both Metacritic and IMBD, we need 4000 requests"
      ]
    },
    {
      "cell_type": "code",
      "metadata": {
        "id": "echkddiZ1KiS",
        "colab_type": "code",
        "colab": {}
      },
      "source": [
        ""
      ],
      "execution_count": 0,
      "outputs": []
    },
    {
      "cell_type": "markdown",
      "metadata": {
        "id": "6YxJOLvibLsl",
        "colab_type": "text"
      },
      "source": [
        "## Identifying the URL structure\n",
        "\n",
        " ### understand the logic of the URL as the pages we want to scrape change."
      ]
    },
    {
      "cell_type": "markdown",
      "metadata": {
        "id": "LzQ01YwzbLsr",
        "colab_type": "text"
      },
      "source": [
        "Let’s browse by year 2017\n",
        "\n",
        "### URL has several parameters after the question mark:\n",
        "\n",
        "    release_date — Shows only the movies released in a specific year.\n",
        "    sort — Sorts the movies on the page. sort=num_votes,desc translates to sort by number of votes in a descending order.\n",
        "    page — Specifies the page number.\n",
        "    ref_ — Takes us to the the next or the previous page. The reference is the page we are currently on. adv_nxt and adv_prv are two possible values. They translate to advance to the next page, and advance to the previous page, respectively.\n"
      ]
    },
    {
      "cell_type": "markdown",
      "metadata": {
        "id": "0PEXEwG9bLsw",
        "colab_type": "text"
      },
      "source": [
        "### navigate through those pages and observe the URL, you will notice that only the values of the parameters change."
      ]
    },
    {
      "cell_type": "code",
      "metadata": {
        "id": "bs1nc6BbbLs0",
        "colab_type": "code",
        "outputId": "bcc97c48-85c8-47b3-b1b5-037875fc6bb7",
        "colab": {
          "base_uri": "https://localhost:8080/",
          "height": 382
        }
      },
      "source": [
        "from requests import get\n",
        "\n",
        "url = 'http://www.imdb.com/search/title?release_date=2017&sort=num_votes,desc&page=1'\n",
        "\n",
        "response = get(url)\n",
        "\n",
        "print(response.text[:500])"
      ],
      "execution_count": 0,
      "outputs": [
        {
          "output_type": "stream",
          "text": [
            "\n",
            "\n",
            "\n",
            "<!DOCTYPE html>\n",
            "<html\n",
            "    xmlns:og=\"http://ogp.me/ns#\"\n",
            "    xmlns:fb=\"http://www.facebook.com/2008/fbml\">\n",
            "    <head>\n",
            "         \n",
            "        <meta charset=\"utf-8\">\n",
            "        <meta http-equiv=\"X-UA-Compatible\" content=\"IE=edge\">\n",
            "\n",
            "    <meta name=\"apple-itunes-app\" content=\"app-id=342792525, app-argument=imdb:///?src=mdot\">\n",
            "\n",
            "\n",
            "\n",
            "        <script type=\"text/javascript\">var IMDbTimer={starttime: new Date().getTime(),pt:'java'};</script>\n",
            "\n",
            "<script>\n",
            "    if (typeof uet == 'function') {\n",
            "      uet(\"bb\", \"LoadTitle\"\n"
          ],
          "name": "stdout"
        }
      ]
    },
    {
      "cell_type": "markdown",
      "metadata": {
        "id": "MfkWoU7rbLs9",
        "colab_type": "text"
      },
      "source": [
        "# country where English is not the main language"
      ]
    },
    {
      "cell_type": "code",
      "metadata": {
        "id": "R0mulWNObLtA",
        "colab_type": "code",
        "colab": {}
      },
      "source": [
        "headers = {\"Accept-Language\": \"en-US, en;q=0.5\"}"
      ],
      "execution_count": 0,
      "outputs": []
    },
    {
      "cell_type": "code",
      "metadata": {
        "id": "yhU70IuWbLtL",
        "colab_type": "code",
        "outputId": "e8b6a65e-b03c-4426-9c77-5f90aa832b4d",
        "colab": {
          "base_uri": "https://localhost:8080/",
          "height": 382
        }
      },
      "source": [
        "from requests import get\n",
        "\n",
        "url = 'http://www.imdb.com/search/title?release_date=2017&sort=num_votes,desc&page=1'\n",
        "\n",
        "response = get(url)\n",
        "\n",
        "print(response.text[:500])"
      ],
      "execution_count": 0,
      "outputs": [
        {
          "output_type": "stream",
          "text": [
            "\n",
            "\n",
            "\n",
            "<!DOCTYPE html>\n",
            "<html\n",
            "    xmlns:og=\"http://ogp.me/ns#\"\n",
            "    xmlns:fb=\"http://www.facebook.com/2008/fbml\">\n",
            "    <head>\n",
            "         \n",
            "        <meta charset=\"utf-8\">\n",
            "        <meta http-equiv=\"X-UA-Compatible\" content=\"IE=edge\">\n",
            "\n",
            "    <meta name=\"apple-itunes-app\" content=\"app-id=342792525, app-argument=imdb:///?src=mdot\">\n",
            "\n",
            "\n",
            "\n",
            "        <script type=\"text/javascript\">var IMDbTimer={starttime: new Date().getTime(),pt:'java'};</script>\n",
            "\n",
            "<script>\n",
            "    if (typeof uet == 'function') {\n",
            "      uet(\"bb\", \"LoadTitle\"\n"
          ],
          "name": "stdout"
        }
      ]
    },
    {
      "cell_type": "markdown",
      "metadata": {
        "id": "t5bFvOjMbLta",
        "colab_type": "text"
      },
      "source": [
        "## Understanding the HTML structure of a single page\n",
        "\n",
        "### first line of response.text, the server sent us an HTML\n",
        "\n",
        "### Most websites have a similar structure\n",
        "\n",
        "### browser’s Developer Tools to undestand the HMTL\n",
        "\n",
        "### inspect movie name\n",
        "\n",
        "### ll of the information for each movie, including the poster, is contained in a div tag."
      ]
    },
    {
      "cell_type": "markdown",
      "metadata": {
        "id": "8-jxp669bLtb",
        "colab_type": "text"
      },
      "source": [
        "# Using BeautifulSoup to parse the HTML content\n",
        "\n",
        "### BeautifulSoup, the most common web scraping module for Python.\n",
        "\n",
        "### Import the BeautifulSoup class creator from the package bs4.\n",
        "\n",
        "###   Parse response.text by creating a BeautifulSoup object,\n",
        "\n",
        "### The 'html.parser' argument indicates that we want to do the parsing using Python’s built-in HTML parser.\n",
        "\n"
      ]
    },
    {
      "cell_type": "code",
      "metadata": {
        "id": "-8gNAJfH1RvV",
        "colab_type": "code",
        "outputId": "82625ebd-e161-4847-bf30-0166da929628",
        "colab": {
          "base_uri": "https://localhost:8080/",
          "height": 34
        }
      },
      "source": [
        "from bs4 import BeautifulSoup\n",
        "\n",
        "html_soup = BeautifulSoup(response.text, 'html.parser')\n",
        "\n",
        "type(html_soup)"
      ],
      "execution_count": 0,
      "outputs": [
        {
          "output_type": "execute_result",
          "data": {
            "text/plain": [
              "bs4.BeautifulSoup"
            ]
          },
          "metadata": {
            "tags": []
          },
          "execution_count": 9
        }
      ]
    },
    {
      "cell_type": "code",
      "metadata": {
        "id": "eJFn7tFNbLth",
        "colab_type": "code",
        "outputId": "5984899f-a9a6-4d24-9d39-0f74724b764d",
        "colab": {
          "base_uri": "https://localhost:8080/",
          "height": 132
        }
      },
      "source": [
        "html_soup.find_all?   "
      ],
      "execution_count": 0,
      "outputs": [
        {
          "output_type": "error",
          "ename": "SyntaxError",
          "evalue": "ignored",
          "traceback": [
            "\u001b[0;36m  File \u001b[0;32m\"<ipython-input-10-70cd5f640eb5>\"\u001b[0;36m, line \u001b[0;32m1\u001b[0m\n\u001b[0;31m    html_soup.find_all?\u001b[0m\n\u001b[0m                      ^\u001b[0m\n\u001b[0;31mSyntaxError\u001b[0m\u001b[0;31m:\u001b[0m invalid syntax\n"
          ]
        }
      ]
    },
    {
      "cell_type": "code",
      "metadata": {
        "id": "azrdkN5lbLtv",
        "colab_type": "code",
        "outputId": "3507f7c3-794e-4d6a-e883-f27641a5578c",
        "colab": {
          "base_uri": "https://localhost:8080/",
          "height": 34
        }
      },
      "source": [
        "movie_containers = html_soup.find_all('div', attrs={'class': 'lister-item mode-advanced'})\n",
        "\n",
        "print(len(movie_containers))"
      ],
      "execution_count": 0,
      "outputs": [
        {
          "output_type": "stream",
          "text": [
            "50\n"
          ],
          "name": "stdout"
        }
      ]
    },
    {
      "cell_type": "code",
      "metadata": {
        "id": "HrnqRm75S_0t",
        "colab_type": "code",
        "outputId": "c56ac3b1-359c-47bb-cc82-b93565036c0f",
        "colab": {
          "base_uri": "https://localhost:8080/",
          "height": 1000
        }
      },
      "source": [
        "movie_containers[0]"
      ],
      "execution_count": 0,
      "outputs": [
        {
          "output_type": "execute_result",
          "data": {
            "text/plain": [
              "<div class=\"lister-item mode-advanced\">\n",
              "<div class=\"lister-top-right\">\n",
              "<div class=\"ribbonize\" data-caller=\"filmosearch\" data-tconst=\"tt3315342\"></div>\n",
              "</div>\n",
              "<div class=\"lister-item-image float-left\">\n",
              "<a href=\"/title/tt3315342/\"> <img alt=\"Logan\" class=\"loadlate\" data-tconst=\"tt3315342\" height=\"98\" loadlate=\"https://m.media-amazon.com/images/M/MV5BYzc5MTU4N2EtYTkyMi00NjdhLTg3NWEtMTY4OTEyMzJhZTAzXkEyXkFqcGdeQXVyNjc1NTYyMjg@._V1_UX67_CR0,0,67,98_AL_.jpg\" src=\"https://m.media-amazon.com/images/G/01/imdb/images/nopicture/large/film-184890147._CB470041630_.png\" width=\"67\"/>\n",
              "</a> </div>\n",
              "<div class=\"lister-item-content\">\n",
              "<h3 class=\"lister-item-header\">\n",
              "<span class=\"lister-item-index unbold text-primary\">1.</span>\n",
              "<a href=\"/title/tt3315342/\">Logan</a>\n",
              "<span class=\"lister-item-year text-muted unbold\">(2017)</span>\n",
              "</h3>\n",
              "<p class=\"text-muted \">\n",
              "<span class=\"certificate\">R</span>\n",
              "<span class=\"ghost\">|</span>\n",
              "<span class=\"runtime\">137 min</span>\n",
              "<span class=\"ghost\">|</span>\n",
              "<span class=\"genre\">\n",
              "Action, Drama, Sci-Fi            </span>\n",
              "</p>\n",
              "<div class=\"ratings-bar\">\n",
              "<div class=\"inline-block ratings-imdb-rating\" data-value=\"8.1\" name=\"ir\">\n",
              "<span class=\"global-sprite rating-star imdb-rating\"></span>\n",
              "<strong>8.1</strong>\n",
              "</div>\n",
              "<div class=\"inline-block ratings-user-rating\">\n",
              "<span class=\"userRatingValue\" data-tconst=\"tt3315342\" id=\"urv_tt3315342\">\n",
              "<span class=\"global-sprite rating-star no-rating\"></span>\n",
              "<span class=\"rate\" data-no-rating=\"Rate this\" data-value=\"0\" name=\"ur\">Rate this</span>\n",
              "</span>\n",
              "<div class=\"starBarWidget\" id=\"sb_tt3315342\">\n",
              "<div class=\"rating rating-list\" data-auth=\"\" data-ga-identifier=\"\" data-starbar-class=\"rating-list\" data-user=\"\" id=\"tt3315342|imdb|8.1|8.1|||advsearch|title\" itemprop=\"aggregateRating\" itemscope=\"\" itemtype=\"http://schema.org/AggregateRating\" title=\"Users rated this 8.1/10 (593,689 votes) - click stars to rate\">\n",
              "<meta content=\"8.1\" itemprop=\"ratingValue\"/>\n",
              "<meta content=\"10\" itemprop=\"bestRating\"/>\n",
              "<meta content=\"593689\" itemprop=\"ratingCount\"/>\n",
              "<span class=\"rating-bg\"> </span>\n",
              "<span class=\"rating-imdb \" style=\"width: 113.4px\"> </span>\n",
              "<span class=\"rating-stars\">\n",
              "<a href=\"/register/login?why=vote\" rel=\"nofollow\" title=\"Register or login to rate this title\"><span>1</span></a>\n",
              "<a href=\"/register/login?why=vote\" rel=\"nofollow\" title=\"Register or login to rate this title\"><span>2</span></a>\n",
              "<a href=\"/register/login?why=vote\" rel=\"nofollow\" title=\"Register or login to rate this title\"><span>3</span></a>\n",
              "<a href=\"/register/login?why=vote\" rel=\"nofollow\" title=\"Register or login to rate this title\"><span>4</span></a>\n",
              "<a href=\"/register/login?why=vote\" rel=\"nofollow\" title=\"Register or login to rate this title\"><span>5</span></a>\n",
              "<a href=\"/register/login?why=vote\" rel=\"nofollow\" title=\"Register or login to rate this title\"><span>6</span></a>\n",
              "<a href=\"/register/login?why=vote\" rel=\"nofollow\" title=\"Register or login to rate this title\"><span>7</span></a>\n",
              "<a href=\"/register/login?why=vote\" rel=\"nofollow\" title=\"Register or login to rate this title\"><span>8</span></a>\n",
              "<a href=\"/register/login?why=vote\" rel=\"nofollow\" title=\"Register or login to rate this title\"><span>9</span></a>\n",
              "<a href=\"/register/login?why=vote\" rel=\"nofollow\" title=\"Register or login to rate this title\"><span>10</span></a>\n",
              "</span>\n",
              "<span class=\"rating-rating \"><span class=\"value\">8.1</span><span class=\"grey\">/</span><span class=\"grey\">10</span></span>\n",
              "<span class=\"rating-cancel \"><a href=\"/title/tt3315342/vote?v=X;k=\" rel=\"nofollow\" title=\"Delete\"><span>X</span></a></span>\n",
              " </div>\n",
              "</div>\n",
              "</div>\n",
              "<div class=\"inline-block ratings-metascore\">\n",
              "<span class=\"metascore favorable\">77        </span>\n",
              "        Metascore\n",
              "            </div>\n",
              "</div>\n",
              "<p class=\"text-muted\">\n",
              "    In a future where mutants are nearly extinct, an elderly and weary Logan leads a quiet life. But when Laura, a mutant child pursued by scientists, comes to him for help, he must get her to safety.</p>\n",
              "<p class=\"\">\n",
              "    Director:\n",
              "<a href=\"/name/nm0003506/\">James Mangold</a>\n",
              "<span class=\"ghost\">|</span> \n",
              "    Stars:\n",
              "<a href=\"/name/nm0413168/\">Hugh Jackman</a>, \n",
              "<a href=\"/name/nm0001772/\">Patrick Stewart</a>, \n",
              "<a href=\"/name/nm6748436/\">Dafne Keen</a>, \n",
              "<a href=\"/name/nm2933542/\">Boyd Holbrook</a>\n",
              "</p>\n",
              "<p class=\"sort-num_votes-visible\">\n",
              "<span class=\"text-muted\">Votes:</span>\n",
              "<span data-value=\"593689\" name=\"nv\">593,689</span>\n",
              "<span class=\"ghost\">|</span> <span class=\"text-muted\">Gross:</span>\n",
              "<span data-value=\"226,277,068\" name=\"nv\">$226.28M</span>\n",
              "</p>\n",
              "</div>\n",
              "</div>"
            ]
          },
          "metadata": {
            "tags": []
          },
          "execution_count": 12
        }
      ]
    },
    {
      "cell_type": "markdown",
      "metadata": {
        "id": "BYsombiDbLuC",
        "colab_type": "text"
      },
      "source": [
        "### What distinguishes them from other div elements on that page?"
      ]
    },
    {
      "cell_type": "code",
      "metadata": {
        "id": "IJBRz17wbLuH",
        "colab_type": "code",
        "colab": {}
      },
      "source": [
        ""
      ],
      "execution_count": 0,
      "outputs": []
    },
    {
      "cell_type": "code",
      "metadata": {
        "id": "AjjcMjPabLuT",
        "colab_type": "code",
        "colab": {}
      },
      "source": [
        ""
      ],
      "execution_count": 0,
      "outputs": []
    },
    {
      "cell_type": "markdown",
      "metadata": {
        "id": "LA0DsCMUbLuj",
        "colab_type": "text"
      },
      "source": [
        "### ResultSet object which is a list containing all the 50 divs"
      ]
    },
    {
      "cell_type": "code",
      "metadata": {
        "scrolled": true,
        "id": "Ei47CAivbLum",
        "colab_type": "code",
        "colab": {}
      },
      "source": [
        ""
      ],
      "execution_count": 0,
      "outputs": []
    },
    {
      "cell_type": "markdown",
      "metadata": {
        "id": "NC6K9MhAbLu1",
        "colab_type": "text"
      },
      "source": [
        "# The fields we want to collect\n",
        "    The name of the movie.\n",
        "    The year of release.\n",
        "    The IMDB rating.\n",
        "    The Metascore.\n",
        "    The number of votes.\n"
      ]
    },
    {
      "cell_type": "markdown",
      "metadata": {
        "id": "SjsY5110bLvB",
        "colab_type": "text"
      },
      "source": [
        "# The name of the movie"
      ]
    },
    {
      "cell_type": "code",
      "metadata": {
        "id": "c_zruiUzbLvF",
        "colab_type": "code",
        "colab": {}
      },
      "source": [
        "first_movie = movie_containers[0]"
      ],
      "execution_count": 0,
      "outputs": []
    },
    {
      "cell_type": "code",
      "metadata": {
        "id": "hRaLbObEbLvP",
        "colab_type": "code",
        "outputId": "5edb38f3-aa41-4a5a-cbd5-0c35ace8cb52",
        "colab": {
          "base_uri": "https://localhost:8080/",
          "height": 69
        }
      },
      "source": [
        "first_movie.div"
      ],
      "execution_count": 0,
      "outputs": [
        {
          "output_type": "execute_result",
          "data": {
            "text/plain": [
              "<div class=\"lister-top-right\">\n",
              "<div class=\"ribbonize\" data-caller=\"filmosearch\" data-tconst=\"tt3315342\"></div>\n",
              "</div>"
            ]
          },
          "metadata": {
            "tags": []
          },
          "execution_count": 17
        }
      ]
    },
    {
      "cell_type": "code",
      "metadata": {
        "id": "DV4u2-m_bLvb",
        "colab_type": "code",
        "outputId": "d36a0f92-3dcc-4ecf-9225-999381662565",
        "colab": {
          "base_uri": "https://localhost:8080/",
          "height": 72
        }
      },
      "source": [
        "first_movie.a"
      ],
      "execution_count": 0,
      "outputs": [
        {
          "output_type": "execute_result",
          "data": {
            "text/plain": [
              "<a href=\"/title/tt3315342/\"> <img alt=\"Logan\" class=\"loadlate\" data-tconst=\"tt3315342\" height=\"98\" loadlate=\"https://m.media-amazon.com/images/M/MV5BYzc5MTU4N2EtYTkyMi00NjdhLTg3NWEtMTY4OTEyMzJhZTAzXkEyXkFqcGdeQXVyNjc1NTYyMjg@._V1_UX67_CR0,0,67,98_AL_.jpg\" src=\"https://m.media-amazon.com/images/G/01/imdb/images/nopicture/large/film-184890147._CB470041630_.png\" width=\"67\"/>\n",
              "</a>"
            ]
          },
          "metadata": {
            "tags": []
          },
          "execution_count": 18
        }
      ]
    },
    {
      "cell_type": "code",
      "metadata": {
        "id": "-3ZjBFNrbLvv",
        "colab_type": "code",
        "outputId": "7fcb249f-3d35-4f5b-9606-b494f1e5b160",
        "colab": {
          "base_uri": "https://localhost:8080/",
          "height": 104
        }
      },
      "source": [
        "first_movie.h3"
      ],
      "execution_count": 0,
      "outputs": [
        {
          "output_type": "execute_result",
          "data": {
            "text/plain": [
              "<h3 class=\"lister-item-header\">\n",
              "<span class=\"lister-item-index unbold text-primary\">1.</span>\n",
              "<a href=\"/title/tt3315342/\">Logan</a>\n",
              "<span class=\"lister-item-year text-muted unbold\">(2017)</span>\n",
              "</h3>"
            ]
          },
          "metadata": {
            "tags": []
          },
          "execution_count": 19
        }
      ]
    },
    {
      "cell_type": "code",
      "metadata": {
        "id": "JlBJRX4YbLv7",
        "colab_type": "code",
        "outputId": "bacbd495-fe40-421f-c9ab-c821c45bc3cc",
        "colab": {
          "base_uri": "https://localhost:8080/",
          "height": 34
        }
      },
      "source": [
        "first_movie.h3.a"
      ],
      "execution_count": 0,
      "outputs": [
        {
          "output_type": "execute_result",
          "data": {
            "text/plain": [
              "<a href=\"/title/tt3315342/\">Logan</a>"
            ]
          },
          "metadata": {
            "tags": []
          },
          "execution_count": 20
        }
      ]
    },
    {
      "cell_type": "code",
      "metadata": {
        "id": "VJcPQPUUbLwF",
        "colab_type": "code",
        "outputId": "9c45bf36-c687-4ed5-94b2-a919b71327f5",
        "colab": {
          "base_uri": "https://localhost:8080/",
          "height": 34
        }
      },
      "source": [
        "first_name = first_movie.h3.a.text\n",
        "print(first_name)"
      ],
      "execution_count": 0,
      "outputs": [
        {
          "output_type": "execute_result",
          "data": {
            "text/plain": [
              "'Logan'"
            ]
          },
          "metadata": {
            "tags": []
          },
          "execution_count": 21
        }
      ]
    },
    {
      "cell_type": "markdown",
      "metadata": {
        "id": "qcEqtfpPbLwu",
        "colab_type": "text"
      },
      "source": [
        "# The year of the movie's release"
      ]
    },
    {
      "cell_type": "code",
      "metadata": {
        "id": "mEO6Q1BibLw0",
        "colab_type": "code",
        "outputId": "e403c24f-bbb2-441a-8309-2409482f79c6",
        "colab": {
          "base_uri": "https://localhost:8080/",
          "height": 34
        }
      },
      "source": [
        "first_year = first_movie.h3.find('span', class_='lister-item-year text-muted unbold')\n",
        "print(first_year)"
      ],
      "execution_count": 0,
      "outputs": [
        {
          "output_type": "stream",
          "text": [
            "<span class=\"lister-item-year text-muted unbold\">(2017)</span>\n"
          ],
          "name": "stdout"
        }
      ]
    },
    {
      "cell_type": "code",
      "metadata": {
        "id": "MuQ6gaIYbLxG",
        "colab_type": "code",
        "outputId": "3670c53b-7bd4-47a8-c2e4-98474736c354",
        "colab": {
          "base_uri": "https://localhost:8080/",
          "height": 34
        }
      },
      "source": [
        "first_year = first_movie.h3.find('span', class_='lister-item-year text-muted unbold').text\n",
        "print(first_year)"
      ],
      "execution_count": 0,
      "outputs": [
        {
          "output_type": "stream",
          "text": [
            "(2017)\n"
          ],
          "name": "stdout"
        }
      ]
    },
    {
      "cell_type": "markdown",
      "metadata": {
        "id": "ygTZjvbGbLxT",
        "colab_type": "text"
      },
      "source": [
        "# The IMDB rating"
      ]
    },
    {
      "cell_type": "code",
      "metadata": {
        "id": "enPquM8pbLxW",
        "colab_type": "code",
        "outputId": "b6e7272c-7c9e-4c06-c502-95193cf49c43",
        "colab": {
          "base_uri": "https://localhost:8080/",
          "height": 34
        }
      },
      "source": [
        "first_rating = first_movie.strong.text\n",
        "first_rating = float(first_rating)\n",
        "first_rating\n"
      ],
      "execution_count": 0,
      "outputs": [
        {
          "output_type": "execute_result",
          "data": {
            "text/plain": [
              "8.1"
            ]
          },
          "metadata": {
            "tags": []
          },
          "execution_count": 32
        }
      ]
    },
    {
      "cell_type": "code",
      "metadata": {
        "id": "mrRnW3DlbLxl",
        "colab_type": "code",
        "colab": {}
      },
      "source": [
        ""
      ],
      "execution_count": 0,
      "outputs": []
    },
    {
      "cell_type": "markdown",
      "metadata": {
        "id": "SGRWPg4CbLyE",
        "colab_type": "text"
      },
      "source": [
        "# The Metascore"
      ]
    },
    {
      "cell_type": "code",
      "metadata": {
        "id": "mFL-86YtbLyI",
        "colab_type": "code",
        "outputId": "dedfef64-3c46-4779-d9b0-ca0b4d29c738",
        "colab": {
          "base_uri": "https://localhost:8080/",
          "height": 34
        }
      },
      "source": [
        "first_metascore = first_movie.find('span', class_='metascore favorable')\n",
        "print(first_metascore)"
      ],
      "execution_count": 0,
      "outputs": [
        {
          "output_type": "stream",
          "text": [
            "<span class=\"metascore favorable\">77        </span>\n"
          ],
          "name": "stdout"
        }
      ]
    },
    {
      "cell_type": "code",
      "metadata": {
        "id": "eX-IAMFzXQP8",
        "colab_type": "code",
        "outputId": "6302476a-c70b-4b68-814e-5d1db17cc54c",
        "colab": {
          "base_uri": "https://localhost:8080/",
          "height": 34
        }
      },
      "source": [
        "first_mscore = int(first_metascore.text)\n",
        "print(first_mscore)"
      ],
      "execution_count": 0,
      "outputs": [
        {
          "output_type": "stream",
          "text": [
            "77\n"
          ],
          "name": "stdout"
        }
      ]
    },
    {
      "cell_type": "markdown",
      "metadata": {
        "id": "g9sY6FNAbLyR",
        "colab_type": "text"
      },
      "source": [
        "# The number of votes"
      ]
    },
    {
      "cell_type": "code",
      "metadata": {
        "id": "lIHXhV56bLyT",
        "colab_type": "code",
        "outputId": "ca33e0c1-8c68-4e19-d787-58ad54672d3b",
        "colab": {
          "base_uri": "https://localhost:8080/",
          "height": 34
        }
      },
      "source": [
        "first_votes = first_movie.find('span', attrs={'name': 'nv'})\n",
        "first_votes"
      ],
      "execution_count": 0,
      "outputs": [
        {
          "output_type": "execute_result",
          "data": {
            "text/plain": [
              "<span data-value=\"593689\" name=\"nv\">593,689</span>"
            ]
          },
          "metadata": {
            "tags": []
          },
          "execution_count": 36
        }
      ]
    },
    {
      "cell_type": "code",
      "metadata": {
        "id": "Zyi5-yxGbLyh",
        "colab_type": "code",
        "outputId": "8ece1409-2c15-4fea-fba2-9490a0251089",
        "colab": {
          "base_uri": "https://localhost:8080/",
          "height": 34
        }
      },
      "source": [
        "first_votes['data-value']"
      ],
      "execution_count": 0,
      "outputs": [
        {
          "output_type": "execute_result",
          "data": {
            "text/plain": [
              "'593689'"
            ]
          },
          "metadata": {
            "tags": []
          },
          "execution_count": 37
        }
      ]
    },
    {
      "cell_type": "code",
      "metadata": {
        "id": "7nd5Tu1gbLy2",
        "colab_type": "code",
        "outputId": "8abbcc72-e602-435a-a7e2-6444e2d7e1d4",
        "colab": {
          "base_uri": "https://localhost:8080/",
          "height": 34
        }
      },
      "source": [
        "first_votes = int(first_votes['data-value'])\n",
        "print(first_votes)"
      ],
      "execution_count": 0,
      "outputs": [
        {
          "output_type": "stream",
          "text": [
            "593689\n"
          ],
          "name": "stdout"
        }
      ]
    },
    {
      "cell_type": "markdown",
      "metadata": {
        "id": "bFyOg4X0bLy9",
        "colab_type": "text"
      },
      "source": [
        "# The script for a single page"
      ]
    },
    {
      "cell_type": "markdown",
      "metadata": {
        "id": "7XEBsHpybLy-",
        "colab_type": "text"
      },
      "source": [
        "### We need to add a condition to skip movies without a Metascore.\n",
        "\n",
        "### The class attribute has two values: inline-block and ratings-metascore"
      ]
    },
    {
      "cell_type": "code",
      "metadata": {
        "id": "Qq036j71bLzA",
        "colab_type": "code",
        "colab": {}
      },
      "source": [
        "names = []\n",
        "years = []\n",
        "imdb_ratings = []\n",
        "metascores = []\n",
        "votes = []\n",
        "\n",
        "for containers in movie_containers:\n",
        "\n",
        "  #The name\n",
        "  name = containers.h3.a.text\n",
        "  names.append(name)\n",
        "\n",
        "  #The year\n",
        "  year = containers.h3.find('span', class_='lister-item-year text-muted unbold').text\n",
        "  years.append(year)\n",
        "\n",
        "  #the imdb_rating\n",
        "  imdb = float(first_movie.strong.text)\n",
        "  imdb_ratings.append(imdb)\n",
        "\n",
        "  #the metascores\n",
        "  m_score = containers.find('span', class_='metascore favorable')\n",
        "  metascores.append(m_score)\n",
        "\n",
        "  #the votes\n",
        "  vote = int(containers.find('span', attrs={'name': 'nv'})['data-value'])\n",
        "  votes.append(vote)"
      ],
      "execution_count": 0,
      "outputs": []
    },
    {
      "cell_type": "code",
      "metadata": {
        "id": "fSpL1vybbLzG",
        "colab_type": "code",
        "colab": {}
      },
      "source": [
        ""
      ],
      "execution_count": 0,
      "outputs": []
    },
    {
      "cell_type": "code",
      "metadata": {
        "id": "Q2O2_lWwbLzJ",
        "colab_type": "code",
        "colab": {}
      },
      "source": [
        ""
      ],
      "execution_count": 0,
      "outputs": []
    },
    {
      "cell_type": "markdown",
      "metadata": {
        "id": "2MNdcn2dbLzW",
        "colab_type": "text"
      },
      "source": [
        "# Pandas!"
      ]
    },
    {
      "cell_type": "code",
      "metadata": {
        "id": "0XlROZqCbLzW",
        "colab_type": "code",
        "outputId": "63cf7405-91bd-4bd7-9128-76d1c7b88e7e",
        "colab": {
          "base_uri": "https://localhost:8080/",
          "height": 1000
        }
      },
      "source": [
        "import pandas as pd\n",
        "\n",
        "test_df = pd.DataFrame({'movie': names,\n",
        "                        'year': years,\n",
        "                        'imdb': imdb_ratings,\n",
        "                        'metascore': metascores,\n",
        "                        'votes':votes})\n",
        "\n",
        "print(test_df.info())\n",
        "test_df"
      ],
      "execution_count": 0,
      "outputs": [
        {
          "output_type": "stream",
          "text": [
            "<class 'pandas.core.frame.DataFrame'>\n",
            "RangeIndex: 50 entries, 0 to 49\n",
            "Data columns (total 5 columns):\n",
            "movie        50 non-null object\n",
            "year         50 non-null object\n",
            "imdb         50 non-null float64\n",
            "metascore    27 non-null object\n",
            "votes        50 non-null int64\n",
            "dtypes: float64(1), int64(1), object(3)\n",
            "memory usage: 2.1+ KB\n",
            "None\n"
          ],
          "name": "stdout"
        },
        {
          "output_type": "execute_result",
          "data": {
            "text/html": [
              "<div>\n",
              "<style scoped>\n",
              "    .dataframe tbody tr th:only-of-type {\n",
              "        vertical-align: middle;\n",
              "    }\n",
              "\n",
              "    .dataframe tbody tr th {\n",
              "        vertical-align: top;\n",
              "    }\n",
              "\n",
              "    .dataframe thead th {\n",
              "        text-align: right;\n",
              "    }\n",
              "</style>\n",
              "<table border=\"1\" class=\"dataframe\">\n",
              "  <thead>\n",
              "    <tr style=\"text-align: right;\">\n",
              "      <th></th>\n",
              "      <th>movie</th>\n",
              "      <th>year</th>\n",
              "      <th>imdb</th>\n",
              "      <th>metascore</th>\n",
              "      <th>votes</th>\n",
              "    </tr>\n",
              "  </thead>\n",
              "  <tbody>\n",
              "    <tr>\n",
              "      <th>0</th>\n",
              "      <td>Logan</td>\n",
              "      <td>(2017)</td>\n",
              "      <td>8.1</td>\n",
              "      <td>[77        ]</td>\n",
              "      <td>593689</td>\n",
              "    </tr>\n",
              "    <tr>\n",
              "      <th>1</th>\n",
              "      <td>Thor: Ragnarok</td>\n",
              "      <td>(2017)</td>\n",
              "      <td>8.1</td>\n",
              "      <td>[74        ]</td>\n",
              "      <td>526651</td>\n",
              "    </tr>\n",
              "    <tr>\n",
              "      <th>2</th>\n",
              "      <td>Guardians of the Galaxy Vol. 2</td>\n",
              "      <td>(2017)</td>\n",
              "      <td>8.1</td>\n",
              "      <td>[67        ]</td>\n",
              "      <td>518166</td>\n",
              "    </tr>\n",
              "    <tr>\n",
              "      <th>3</th>\n",
              "      <td>Wonder Woman</td>\n",
              "      <td>(2017)</td>\n",
              "      <td>8.1</td>\n",
              "      <td>[76        ]</td>\n",
              "      <td>512305</td>\n",
              "    </tr>\n",
              "    <tr>\n",
              "      <th>4</th>\n",
              "      <td>Star Wars: Episode VIII - The Last Jedi</td>\n",
              "      <td>(2017)</td>\n",
              "      <td>8.1</td>\n",
              "      <td>[85        ]</td>\n",
              "      <td>512076</td>\n",
              "    </tr>\n",
              "    <tr>\n",
              "      <th>5</th>\n",
              "      <td>Dunkirk</td>\n",
              "      <td>(2017)</td>\n",
              "      <td>8.1</td>\n",
              "      <td>[94        ]</td>\n",
              "      <td>493813</td>\n",
              "    </tr>\n",
              "    <tr>\n",
              "      <th>6</th>\n",
              "      <td>Spider-Man: Homecoming</td>\n",
              "      <td>(2017)</td>\n",
              "      <td>8.1</td>\n",
              "      <td>[73        ]</td>\n",
              "      <td>466473</td>\n",
              "    </tr>\n",
              "    <tr>\n",
              "      <th>7</th>\n",
              "      <td>Get Out</td>\n",
              "      <td>(I) (2017)</td>\n",
              "      <td>8.1</td>\n",
              "      <td>[84        ]</td>\n",
              "      <td>436831</td>\n",
              "    </tr>\n",
              "    <tr>\n",
              "      <th>8</th>\n",
              "      <td>It</td>\n",
              "      <td>(I) (2017)</td>\n",
              "      <td>8.1</td>\n",
              "      <td>[69        ]</td>\n",
              "      <td>415786</td>\n",
              "    </tr>\n",
              "    <tr>\n",
              "      <th>9</th>\n",
              "      <td>Blade Runner 2049</td>\n",
              "      <td>(2017)</td>\n",
              "      <td>8.1</td>\n",
              "      <td>[81        ]</td>\n",
              "      <td>407184</td>\n",
              "    </tr>\n",
              "    <tr>\n",
              "      <th>10</th>\n",
              "      <td>Baby Driver</td>\n",
              "      <td>(2017)</td>\n",
              "      <td>8.1</td>\n",
              "      <td>[86        ]</td>\n",
              "      <td>392107</td>\n",
              "    </tr>\n",
              "    <tr>\n",
              "      <th>11</th>\n",
              "      <td>Three Billboards Outside Ebbing, Missouri</td>\n",
              "      <td>(2017)</td>\n",
              "      <td>8.1</td>\n",
              "      <td>[88        ]</td>\n",
              "      <td>374935</td>\n",
              "    </tr>\n",
              "    <tr>\n",
              "      <th>12</th>\n",
              "      <td>Justice League</td>\n",
              "      <td>(2017)</td>\n",
              "      <td>8.1</td>\n",
              "      <td>None</td>\n",
              "      <td>350370</td>\n",
              "    </tr>\n",
              "    <tr>\n",
              "      <th>13</th>\n",
              "      <td>The Shape of Water</td>\n",
              "      <td>(2017)</td>\n",
              "      <td>8.1</td>\n",
              "      <td>[87        ]</td>\n",
              "      <td>332619</td>\n",
              "    </tr>\n",
              "    <tr>\n",
              "      <th>14</th>\n",
              "      <td>John Wick: Chapter 2</td>\n",
              "      <td>(2017)</td>\n",
              "      <td>8.1</td>\n",
              "      <td>[75        ]</td>\n",
              "      <td>326746</td>\n",
              "    </tr>\n",
              "    <tr>\n",
              "      <th>15</th>\n",
              "      <td>Coco</td>\n",
              "      <td>(I) (2017)</td>\n",
              "      <td>8.1</td>\n",
              "      <td>[81        ]</td>\n",
              "      <td>314107</td>\n",
              "    </tr>\n",
              "    <tr>\n",
              "      <th>16</th>\n",
              "      <td>Jumanji: Welcome to the Jungle</td>\n",
              "      <td>(2017)</td>\n",
              "      <td>8.1</td>\n",
              "      <td>None</td>\n",
              "      <td>277168</td>\n",
              "    </tr>\n",
              "    <tr>\n",
              "      <th>17</th>\n",
              "      <td>Beauty and the Beast</td>\n",
              "      <td>(2017)</td>\n",
              "      <td>8.1</td>\n",
              "      <td>[65        ]</td>\n",
              "      <td>251665</td>\n",
              "    </tr>\n",
              "    <tr>\n",
              "      <th>18</th>\n",
              "      <td>Kong: Skull Island</td>\n",
              "      <td>(2017)</td>\n",
              "      <td>8.1</td>\n",
              "      <td>[62        ]</td>\n",
              "      <td>250731</td>\n",
              "    </tr>\n",
              "    <tr>\n",
              "      <th>19</th>\n",
              "      <td>Kingsman: The Golden Circle</td>\n",
              "      <td>(2017)</td>\n",
              "      <td>8.1</td>\n",
              "      <td>None</td>\n",
              "      <td>246516</td>\n",
              "    </tr>\n",
              "    <tr>\n",
              "      <th>20</th>\n",
              "      <td>Pirates of the Caribbean: Dead Men Tell No Tales</td>\n",
              "      <td>(2017)</td>\n",
              "      <td>8.1</td>\n",
              "      <td>None</td>\n",
              "      <td>240485</td>\n",
              "    </tr>\n",
              "    <tr>\n",
              "      <th>21</th>\n",
              "      <td>Alien: Covenant</td>\n",
              "      <td>(2017)</td>\n",
              "      <td>8.1</td>\n",
              "      <td>[65        ]</td>\n",
              "      <td>236596</td>\n",
              "    </tr>\n",
              "    <tr>\n",
              "      <th>22</th>\n",
              "      <td>13 Reasons Why</td>\n",
              "      <td>(2017– )</td>\n",
              "      <td>8.1</td>\n",
              "      <td>None</td>\n",
              "      <td>229962</td>\n",
              "    </tr>\n",
              "    <tr>\n",
              "      <th>23</th>\n",
              "      <td>The Greatest Showman</td>\n",
              "      <td>(2017)</td>\n",
              "      <td>8.1</td>\n",
              "      <td>None</td>\n",
              "      <td>211919</td>\n",
              "    </tr>\n",
              "    <tr>\n",
              "      <th>24</th>\n",
              "      <td>War for the Planet of the Apes</td>\n",
              "      <td>(2017)</td>\n",
              "      <td>8.1</td>\n",
              "      <td>[82        ]</td>\n",
              "      <td>211515</td>\n",
              "    </tr>\n",
              "    <tr>\n",
              "      <th>25</th>\n",
              "      <td>Lady Bird</td>\n",
              "      <td>(2017)</td>\n",
              "      <td>8.1</td>\n",
              "      <td>[94        ]</td>\n",
              "      <td>195078</td>\n",
              "    </tr>\n",
              "    <tr>\n",
              "      <th>26</th>\n",
              "      <td>Life</td>\n",
              "      <td>(I) (2017)</td>\n",
              "      <td>8.1</td>\n",
              "      <td>None</td>\n",
              "      <td>190902</td>\n",
              "    </tr>\n",
              "    <tr>\n",
              "      <th>27</th>\n",
              "      <td>The Fate of the Furious</td>\n",
              "      <td>(2017)</td>\n",
              "      <td>8.1</td>\n",
              "      <td>None</td>\n",
              "      <td>189978</td>\n",
              "    </tr>\n",
              "    <tr>\n",
              "      <th>28</th>\n",
              "      <td>Murder on the Orient Express</td>\n",
              "      <td>(2017)</td>\n",
              "      <td>8.1</td>\n",
              "      <td>None</td>\n",
              "      <td>189840</td>\n",
              "    </tr>\n",
              "    <tr>\n",
              "      <th>29</th>\n",
              "      <td>Ghost in the Shell</td>\n",
              "      <td>(2017)</td>\n",
              "      <td>8.1</td>\n",
              "      <td>None</td>\n",
              "      <td>184588</td>\n",
              "    </tr>\n",
              "    <tr>\n",
              "      <th>30</th>\n",
              "      <td>Money Heist</td>\n",
              "      <td>(2017– )</td>\n",
              "      <td>8.1</td>\n",
              "      <td>None</td>\n",
              "      <td>182018</td>\n",
              "    </tr>\n",
              "    <tr>\n",
              "      <th>31</th>\n",
              "      <td>Wind River</td>\n",
              "      <td>(2017)</td>\n",
              "      <td>8.1</td>\n",
              "      <td>[73        ]</td>\n",
              "      <td>181605</td>\n",
              "    </tr>\n",
              "    <tr>\n",
              "      <th>32</th>\n",
              "      <td>King Arthur: Legend of the Sword</td>\n",
              "      <td>(2017)</td>\n",
              "      <td>8.1</td>\n",
              "      <td>None</td>\n",
              "      <td>177112</td>\n",
              "    </tr>\n",
              "    <tr>\n",
              "      <th>33</th>\n",
              "      <td>Call Me by Your Name</td>\n",
              "      <td>(2017)</td>\n",
              "      <td>8.1</td>\n",
              "      <td>[93        ]</td>\n",
              "      <td>172064</td>\n",
              "    </tr>\n",
              "    <tr>\n",
              "      <th>34</th>\n",
              "      <td>The Hitman's Bodyguard</td>\n",
              "      <td>(2017)</td>\n",
              "      <td>8.1</td>\n",
              "      <td>None</td>\n",
              "      <td>171247</td>\n",
              "    </tr>\n",
              "    <tr>\n",
              "      <th>35</th>\n",
              "      <td>Mother!</td>\n",
              "      <td>(2017)</td>\n",
              "      <td>8.1</td>\n",
              "      <td>[75        ]</td>\n",
              "      <td>171079</td>\n",
              "    </tr>\n",
              "    <tr>\n",
              "      <th>36</th>\n",
              "      <td>Mindhunter</td>\n",
              "      <td>(2017– )</td>\n",
              "      <td>8.1</td>\n",
              "      <td>None</td>\n",
              "      <td>170879</td>\n",
              "    </tr>\n",
              "    <tr>\n",
              "      <th>37</th>\n",
              "      <td>The Mummy</td>\n",
              "      <td>(2017)</td>\n",
              "      <td>8.1</td>\n",
              "      <td>None</td>\n",
              "      <td>162175</td>\n",
              "    </tr>\n",
              "    <tr>\n",
              "      <th>38</th>\n",
              "      <td>The Punisher</td>\n",
              "      <td>(2017–2019)</td>\n",
              "      <td>8.1</td>\n",
              "      <td>None</td>\n",
              "      <td>161837</td>\n",
              "    </tr>\n",
              "    <tr>\n",
              "      <th>39</th>\n",
              "      <td>Atomic Blonde</td>\n",
              "      <td>(2017)</td>\n",
              "      <td>8.1</td>\n",
              "      <td>[63        ]</td>\n",
              "      <td>160582</td>\n",
              "    </tr>\n",
              "    <tr>\n",
              "      <th>40</th>\n",
              "      <td>Bright</td>\n",
              "      <td>(I) (2017)</td>\n",
              "      <td>8.1</td>\n",
              "      <td>None</td>\n",
              "      <td>155742</td>\n",
              "    </tr>\n",
              "    <tr>\n",
              "      <th>41</th>\n",
              "      <td>I, Tonya</td>\n",
              "      <td>(2017)</td>\n",
              "      <td>8.1</td>\n",
              "      <td>[77        ]</td>\n",
              "      <td>155666</td>\n",
              "    </tr>\n",
              "    <tr>\n",
              "      <th>42</th>\n",
              "      <td>Dark</td>\n",
              "      <td>(2017– )</td>\n",
              "      <td>8.1</td>\n",
              "      <td>None</td>\n",
              "      <td>155468</td>\n",
              "    </tr>\n",
              "    <tr>\n",
              "      <th>43</th>\n",
              "      <td>Valerian and the City of a Thousand Planets</td>\n",
              "      <td>(2017)</td>\n",
              "      <td>8.1</td>\n",
              "      <td>None</td>\n",
              "      <td>149232</td>\n",
              "    </tr>\n",
              "    <tr>\n",
              "      <th>44</th>\n",
              "      <td>Darkest Hour</td>\n",
              "      <td>(2017)</td>\n",
              "      <td>8.1</td>\n",
              "      <td>[75        ]</td>\n",
              "      <td>149000</td>\n",
              "    </tr>\n",
              "    <tr>\n",
              "      <th>45</th>\n",
              "      <td>Baywatch</td>\n",
              "      <td>(2017)</td>\n",
              "      <td>8.1</td>\n",
              "      <td>None</td>\n",
              "      <td>147397</td>\n",
              "    </tr>\n",
              "    <tr>\n",
              "      <th>46</th>\n",
              "      <td>The Handmaid's Tale</td>\n",
              "      <td>(2017– )</td>\n",
              "      <td>8.1</td>\n",
              "      <td>None</td>\n",
              "      <td>144096</td>\n",
              "    </tr>\n",
              "    <tr>\n",
              "      <th>47</th>\n",
              "      <td>American Made</td>\n",
              "      <td>(2017)</td>\n",
              "      <td>8.1</td>\n",
              "      <td>[65        ]</td>\n",
              "      <td>142934</td>\n",
              "    </tr>\n",
              "    <tr>\n",
              "      <th>48</th>\n",
              "      <td>Big Little Lies</td>\n",
              "      <td>(2017– )</td>\n",
              "      <td>8.1</td>\n",
              "      <td>None</td>\n",
              "      <td>129442</td>\n",
              "    </tr>\n",
              "    <tr>\n",
              "      <th>49</th>\n",
              "      <td>Transformers: The Last Knight</td>\n",
              "      <td>(2017)</td>\n",
              "      <td>8.1</td>\n",
              "      <td>None</td>\n",
              "      <td>125697</td>\n",
              "    </tr>\n",
              "  </tbody>\n",
              "</table>\n",
              "</div>"
            ],
            "text/plain": [
              "                                               movie  ...   votes\n",
              "0                                              Logan  ...  593689\n",
              "1                                     Thor: Ragnarok  ...  526651\n",
              "2                     Guardians of the Galaxy Vol. 2  ...  518166\n",
              "3                                       Wonder Woman  ...  512305\n",
              "4            Star Wars: Episode VIII - The Last Jedi  ...  512076\n",
              "5                                            Dunkirk  ...  493813\n",
              "6                             Spider-Man: Homecoming  ...  466473\n",
              "7                                            Get Out  ...  436831\n",
              "8                                                 It  ...  415786\n",
              "9                                  Blade Runner 2049  ...  407184\n",
              "10                                       Baby Driver  ...  392107\n",
              "11         Three Billboards Outside Ebbing, Missouri  ...  374935\n",
              "12                                    Justice League  ...  350370\n",
              "13                                The Shape of Water  ...  332619\n",
              "14                              John Wick: Chapter 2  ...  326746\n",
              "15                                              Coco  ...  314107\n",
              "16                    Jumanji: Welcome to the Jungle  ...  277168\n",
              "17                              Beauty and the Beast  ...  251665\n",
              "18                                Kong: Skull Island  ...  250731\n",
              "19                       Kingsman: The Golden Circle  ...  246516\n",
              "20  Pirates of the Caribbean: Dead Men Tell No Tales  ...  240485\n",
              "21                                   Alien: Covenant  ...  236596\n",
              "22                                    13 Reasons Why  ...  229962\n",
              "23                              The Greatest Showman  ...  211919\n",
              "24                    War for the Planet of the Apes  ...  211515\n",
              "25                                         Lady Bird  ...  195078\n",
              "26                                              Life  ...  190902\n",
              "27                           The Fate of the Furious  ...  189978\n",
              "28                      Murder on the Orient Express  ...  189840\n",
              "29                                Ghost in the Shell  ...  184588\n",
              "30                                       Money Heist  ...  182018\n",
              "31                                        Wind River  ...  181605\n",
              "32                  King Arthur: Legend of the Sword  ...  177112\n",
              "33                              Call Me by Your Name  ...  172064\n",
              "34                            The Hitman's Bodyguard  ...  171247\n",
              "35                                           Mother!  ...  171079\n",
              "36                                        Mindhunter  ...  170879\n",
              "37                                         The Mummy  ...  162175\n",
              "38                                      The Punisher  ...  161837\n",
              "39                                     Atomic Blonde  ...  160582\n",
              "40                                            Bright  ...  155742\n",
              "41                                          I, Tonya  ...  155666\n",
              "42                                              Dark  ...  155468\n",
              "43       Valerian and the City of a Thousand Planets  ...  149232\n",
              "44                                      Darkest Hour  ...  149000\n",
              "45                                          Baywatch  ...  147397\n",
              "46                               The Handmaid's Tale  ...  144096\n",
              "47                                     American Made  ...  142934\n",
              "48                                   Big Little Lies  ...  129442\n",
              "49                     Transformers: The Last Knight  ...  125697\n",
              "\n",
              "[50 rows x 5 columns]"
            ]
          },
          "metadata": {
            "tags": []
          },
          "execution_count": 46
        }
      ]
    },
    {
      "cell_type": "markdown",
      "metadata": {
        "id": "-hDEXKfYbLzf",
        "colab_type": "text"
      },
      "source": [
        "# The script for multiple pages"
      ]
    },
    {
      "cell_type": "markdown",
      "metadata": {
        "id": "nLMGy3LlbLzl",
        "colab_type": "text"
      },
      "source": [
        "1. ### Making all the requests we want from within the loop.\n",
        "2. ### Controlling the loop's rate to avoid bombarding the server with requests.\n",
        "3. ### Monitoring the loop while it runs.\n",
        "\n",
        "\n",
        "### 2000-2017 (18)\n",
        "### 4 pages of each year in the interval\n",
        "### 72 pages\n",
        "### 50 movies\n",
        "\n",
        "### about 3600, but due to no metacric just around 2000"
      ]
    },
    {
      "cell_type": "markdown",
      "metadata": {
        "id": "eZvw7c3vbLzo",
        "colab_type": "text"
      },
      "source": [
        "## Changing the URL's parameters"
      ]
    },
    {
      "cell_type": "code",
      "metadata": {
        "id": "S-YccwxKbLzp",
        "colab_type": "code",
        "colab": {}
      },
      "source": [
        "pages = [str(i) for i in range(1,5)]\n",
        "years_url = [str(i) for i in range(2014,2018)]\n"
      ],
      "execution_count": 0,
      "outputs": []
    },
    {
      "cell_type": "code",
      "metadata": {
        "id": "numuKnDIbLz5",
        "colab_type": "code",
        "outputId": "a07fe947-7771-4e21-c350-ff51e6567494",
        "colab": {
          "base_uri": "https://localhost:8080/",
          "height": 34
        }
      },
      "source": [
        "years_url"
      ],
      "execution_count": 0,
      "outputs": [
        {
          "output_type": "execute_result",
          "data": {
            "text/plain": [
              "['2014', '2015', '2016', '2017']"
            ]
          },
          "metadata": {
            "tags": []
          },
          "execution_count": 49
        }
      ]
    },
    {
      "cell_type": "markdown",
      "metadata": {
        "id": "F93JI0b0bL0E",
        "colab_type": "text"
      },
      "source": [
        "## Controlling the crawl-rate"
      ]
    },
    {
      "cell_type": "code",
      "metadata": {
        "id": "7ScH2EHzbL0F",
        "colab_type": "code",
        "colab": {}
      },
      "source": [
        "from time import sleep\n",
        "from random import randint\n"
      ],
      "execution_count": 0,
      "outputs": []
    },
    {
      "cell_type": "markdown",
      "metadata": {
        "id": "SZiybudybL0J",
        "colab_type": "text"
      },
      "source": [
        "## Monitoring the loop as it's still going"
      ]
    },
    {
      "cell_type": "markdown",
      "metadata": {
        "id": "YlGe9DQrbL0K",
        "colab_type": "text"
      },
      "source": [
        "\n",
        "1. The frequency (speed) of requests, so we make sure our program is not overloading the server.\n",
        "2. The number of requests, so we can halt the loop in case the number of expected requests is exceeded.\n",
        "3. The status code of our requests, so we make sure the server is sending back the proper responses.\n"
      ]
    },
    {
      "cell_type": "code",
      "metadata": {
        "id": "gdhsGv9YbL0M",
        "colab_type": "code",
        "outputId": "1fbd7dfc-5bd6-4a02-d9c9-9aed8cad0a8c",
        "colab": {
          "base_uri": "https://localhost:8080/",
          "height": 104
        }
      },
      "source": [
        "from time import sleep\n",
        "from random import randint\n",
        "from time import time\n",
        "\n",
        "start_time = time()\n",
        "requests = 0\n",
        "\n",
        "for _ in range(5):\n",
        "\n",
        "   # A REQUEST GOES HERE\n",
        "\n",
        "   requests += 1\n",
        "   #sleep for some random time\n",
        "   sleep(randint(1,3))\n",
        "   elapsed_time = time() - start_time\n",
        "\n",
        "   print(requests, requests/elapsed_time)\n",
        "\n"
      ],
      "execution_count": 0,
      "outputs": [
        {
          "output_type": "stream",
          "text": [
            "1 0.3329445557310298\n",
            "2 0.3994152238353424\n",
            "3 0.499256506121956\n",
            "4 0.4438264527318612\n",
            "5 0.4539258406034486\n"
          ],
          "name": "stdout"
        }
      ]
    },
    {
      "cell_type": "code",
      "metadata": {
        "id": "W7vJliH_bL0U",
        "colab_type": "code",
        "colab": {}
      },
      "source": [
        ""
      ],
      "execution_count": 0,
      "outputs": []
    },
    {
      "cell_type": "markdown",
      "metadata": {
        "id": "kUWE8OG0bL0a",
        "colab_type": "text"
      },
      "source": [
        "### Warning\n",
        "\n",
        "#### A successful request is indicated by a status code of 200. \n",
        "#### We'll use the warn() function from the warnings module to throw a warning if the status code is not 200."
      ]
    },
    {
      "cell_type": "code",
      "metadata": {
        "id": "bBe23l7BbL0b",
        "colab_type": "code",
        "colab": {}
      },
      "source": [
        ""
      ],
      "execution_count": 0,
      "outputs": []
    },
    {
      "cell_type": "markdown",
      "metadata": {
        "id": "Eavdjx2cbL0i",
        "colab_type": "text"
      },
      "source": [
        "# Putting all together"
      ]
    },
    {
      "cell_type": "code",
      "metadata": {
        "id": "uXlCpZuUbL0j",
        "colab_type": "code",
        "outputId": "d3c32f7a-a5c6-4bc5-a5a6-7aa5b72781ff",
        "colab": {
          "base_uri": "https://localhost:8080/",
          "height": 295
        }
      },
      "source": [
        "#list to store aLL DATA\n",
        "\n",
        "names = []\n",
        "years = []\n",
        "imdb_ratings = []\n",
        "metascores = []\n",
        "votes = []\n",
        "\n",
        "start_time = time()\n",
        "requests = 0\n",
        "\n",
        "#going through years\n",
        "for year_url in years_url:\n",
        "\n",
        "  #going through the pages\n",
        "  for page in pages:\n",
        "\n",
        "    response = get('http://www.imdb.com/search/title?release_date='+ year_url + \n",
        "                   '&sort=num_votes,desc&page=' + page)\n",
        "    \n",
        "    sleep(randint(8,15))\n",
        "\n",
        "    requests += 1\n",
        "    elapsed_time = time() - start_time\n",
        "\n",
        "    print(requests, requests/elapsed_time)\n",
        "\n",
        "    html_soup = BeautifulSoup(response.text, 'html.parser')\n",
        "\n",
        "    movie_containers = html_soup.find_all('div', attrs={'class': 'lister-item mode-advanced'})\n",
        "\n",
        "for containers in movie_containers:\n",
        "\n",
        "  #The name\n",
        "  name = containers.h3.a.text\n",
        "  names.append(name)\n",
        "\n",
        "  #The year\n",
        "  year = containers.h3.find('span', class_='lister-item-year text-muted unbold').text\n",
        "  years.append(year)\n",
        "\n",
        "  #the imdb_rating\n",
        "  imdb = float(first_movie.strong.text)\n",
        "  imdb_ratings.append(imdb)\n",
        "\n",
        "  #the metascores\n",
        "  m_score = containers.find('span', class_='metascore favorable')\n",
        "  metascores.append(m_score)\n",
        "\n",
        "  #the votes\n",
        "  vote = int(containers.find('span', attrs={'name': 'nv'})['data-value'])\n",
        "  votes.append(vote)"
      ],
      "execution_count": 0,
      "outputs": [
        {
          "output_type": "stream",
          "text": [
            "1 0.08531604690529114\n",
            "2 0.07036958096190157\n",
            "3 0.06700797286492016\n",
            "4 0.06542150240423558\n",
            "5 0.06713734140440908\n",
            "6 0.06745237303415169\n",
            "7 0.06935677510298414\n",
            "8 0.06990028592398626\n",
            "9 0.0682201167016187\n",
            "10 0.06744796322155788\n",
            "11 0.06678171064749497\n",
            "12 0.06705179255385942\n",
            "13 0.06689820718560599\n",
            "14 0.06868595306247251\n",
            "15 0.06875929929168695\n",
            "16 0.06941525950791014\n"
          ],
          "name": "stdout"
        }
      ]
    },
    {
      "cell_type": "code",
      "metadata": {
        "id": "ap_LBVSTbL0o",
        "colab_type": "code",
        "colab": {}
      },
      "source": [
        ""
      ],
      "execution_count": 0,
      "outputs": []
    },
    {
      "cell_type": "markdown",
      "metadata": {
        "id": "jvIHvL6vbL1h",
        "colab_type": "text"
      },
      "source": [
        "# Examining the scraped data"
      ]
    },
    {
      "cell_type": "code",
      "metadata": {
        "id": "uDWW8ok4bL1m",
        "colab_type": "code",
        "colab": {}
      },
      "source": [
        ""
      ],
      "execution_count": 0,
      "outputs": []
    },
    {
      "cell_type": "markdown",
      "metadata": {
        "id": "9m2oi5AkbL12",
        "colab_type": "text"
      },
      "source": [
        "# Cleaning the scraped data"
      ]
    },
    {
      "cell_type": "markdown",
      "metadata": {
        "id": "jPF_IeBLbL14",
        "colab_type": "text"
      },
      "source": [
        "### Let's start by reordering the columns:"
      ]
    },
    {
      "cell_type": "code",
      "metadata": {
        "id": "3eqa6C5cbL16",
        "colab_type": "code",
        "colab": {}
      },
      "source": [
        ""
      ],
      "execution_count": 0,
      "outputs": []
    },
    {
      "cell_type": "markdown",
      "metadata": {
        "id": "NLMGiZ0-bL2V",
        "colab_type": "text"
      },
      "source": [
        "### Year column to integers"
      ]
    },
    {
      "cell_type": "code",
      "metadata": {
        "id": "ZO9Rawu6bL2Y",
        "colab_type": "code",
        "colab": {}
      },
      "source": [
        ""
      ],
      "execution_count": 0,
      "outputs": []
    },
    {
      "cell_type": "code",
      "metadata": {
        "id": "w_9ZgYC6bL2j",
        "colab_type": "code",
        "colab": {}
      },
      "source": [
        ""
      ],
      "execution_count": 0,
      "outputs": []
    },
    {
      "cell_type": "code",
      "metadata": {
        "id": "cNGcWF5dbL2q",
        "colab_type": "code",
        "colab": {}
      },
      "source": [
        ""
      ],
      "execution_count": 0,
      "outputs": []
    },
    {
      "cell_type": "code",
      "metadata": {
        "id": "vsBpLh35bL3H",
        "colab_type": "code",
        "colab": {}
      },
      "source": [
        ""
      ],
      "execution_count": 0,
      "outputs": []
    },
    {
      "cell_type": "code",
      "metadata": {
        "id": "2AxUqraWbL3U",
        "colab_type": "code",
        "colab": {}
      },
      "source": [
        ""
      ],
      "execution_count": 0,
      "outputs": []
    },
    {
      "cell_type": "code",
      "metadata": {
        "id": "4g76_envbL3f",
        "colab_type": "code",
        "colab": {}
      },
      "source": [
        ""
      ],
      "execution_count": 0,
      "outputs": []
    },
    {
      "cell_type": "markdown",
      "metadata": {
        "id": "fZnxLYQ4bL3j",
        "colab_type": "text"
      },
      "source": [
        "# Plotting and analyzing the distributions"
      ]
    },
    {
      "cell_type": "code",
      "metadata": {
        "id": "_7Bs1D44bL3k",
        "colab_type": "code",
        "colab": {}
      },
      "source": [
        "import matplotlib.pyplot as plt\n",
        "%matplotlib inline\n",
        "\n",
        "fig, axes = plt.subplots(nrows = 1, ncols = 3, figsize = (16,4))\n",
        "ax1, ax2, ax3 = fig.axes\n",
        "\n",
        "ax1.hist(movie_ratings['imdb'], bins = 10, range = (0,10)) # bin range = 1\n",
        "ax1.set_title('IMDB rating')\n",
        "\n",
        "ax2.hist(movie_ratings['metascore'], bins = 10, range = (0,100)) # bin range = 10\n",
        "ax2.set_title('Metascore')\n",
        "\n",
        "ax3.hist(movie_ratings['n_imdb'], bins = 10, range = (0,100), histtype = 'step')\n",
        "ax3.hist(movie_ratings['metascore'], bins = 10, range = (0,100), histtype = 'step')\n",
        "ax3.legend(loc = 'upper left')\n",
        "ax3.set_title('The Two Normalized Distributions')\n",
        "\n",
        "for ax in fig.axes:\n",
        "    ax.spines['top'].set_visible(False)\n",
        "    ax.spines['right'].set_visible(False)\n",
        "\n",
        "plt.show()"
      ],
      "execution_count": 0,
      "outputs": []
    },
    {
      "cell_type": "markdown",
      "metadata": {
        "id": "UNm9DrrqbL3v",
        "colab_type": "text"
      },
      "source": [
        "### Metascore ratings resembles a normal distribution\n",
        "### IMDB histogram, we can see that most ratings are between 6 and 8. "
      ]
    },
    {
      "cell_type": "code",
      "metadata": {
        "id": "0y2AQx7mbL3w",
        "colab_type": "code",
        "colab": {}
      },
      "source": [
        ""
      ],
      "execution_count": 0,
      "outputs": []
    }
  ]
}